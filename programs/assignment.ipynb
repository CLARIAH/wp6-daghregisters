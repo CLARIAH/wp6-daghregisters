{
 "cells": [
  {
   "cell_type": "markdown",
   "id": "011912e0-d54b-41dd-b3e9-505a93abf04f",
   "metadata": {},
   "source": [
    "# Augmented assignment statements\n",
    "\n",
    "\n",
    "For mutable types, `x += thing` is not the same as `x = x + thing`.\n",
    "\n",
    "In the second case, a new object is created that holds `x`, in the first case,\n",
    "the original object is modified in place.\n",
    "\n",
    "See the [python docs](https://docs.python.org/3/reference/simple_stmts.html#augmented-assignment-statements)"
   ]
  },
  {
   "cell_type": "code",
   "execution_count": 3,
   "id": "04b40350-4fc5-4c73-853a-ce9f452c0f40",
   "metadata": {},
   "outputs": [
    {
     "name": "stdout",
     "output_type": "stream",
     "text": [
      "ddd={'key': (1, 2, 3, 4, 5, 6)}\n"
     ]
    }
   ],
   "source": [
    "ddd = dict(key=(1, 2, 3))\n",
    "ddd[\"key\"] += (4, 5, 6)\n",
    "print(f\"{ddd=}\")"
   ]
  },
  {
   "cell_type": "code",
   "execution_count": 4,
   "id": "c9fe2647-ae34-477e-975a-cf7ea74bbc23",
   "metadata": {},
   "outputs": [
    {
     "name": "stdout",
     "output_type": "stream",
     "text": [
      "y=(1, 2, 3, 4, 5, 6)\n",
      "ddd={'key': (1, 2, 3)}\n"
     ]
    }
   ],
   "source": [
    "ddd = dict(key=(1, 2, 3))\n",
    "y = ddd[\"key\"]\n",
    "y += (4, 5, 6)\n",
    "print(f\"{y=}\")\n",
    "print(f\"{ddd=}\")"
   ]
  },
  {
   "cell_type": "code",
   "execution_count": 5,
   "id": "27964b59-e16a-4bb7-9cd2-71b5d217cd4b",
   "metadata": {},
   "outputs": [
    {
     "name": "stdout",
     "output_type": "stream",
     "text": [
      "y={1, 2, 3, 4, 5, 6}\n",
      "ddd={'key': {1, 2, 3, 4, 5, 6}}\n"
     ]
    }
   ],
   "source": [
    "ddd = dict(key={1, 2, 3})\n",
    "y = ddd[\"key\"]\n",
    "y |= {4, 5, 6}\n",
    "print(f\"{y=}\")\n",
    "print(f\"{ddd=}\")"
   ]
  },
  {
   "cell_type": "code",
   "execution_count": 6,
   "id": "ed574546-ae8e-434e-8905-1479016f3eb0",
   "metadata": {},
   "outputs": [
    {
     "name": "stdout",
     "output_type": "stream",
     "text": [
      "id(ddd['key'])=4509019520\n",
      "id(y)=4509019520\n",
      "id(y)=4503385472\n"
     ]
    }
   ],
   "source": [
    "ddd = dict(key=(1, 2, 3))\n",
    "print(f\"{id(ddd['key'])=}\")\n",
    "y = ddd[\"key\"]\n",
    "print(f\"{id(y)=}\")\n",
    "y += (4, 5, 6)\n",
    "print(f\"{id(y)=}\")"
   ]
  },
  {
   "cell_type": "code",
   "execution_count": 7,
   "id": "5c52805e-2878-411a-bfb7-453d476084ee",
   "metadata": {},
   "outputs": [
    {
     "name": "stdout",
     "output_type": "stream",
     "text": [
      "id(ddd['key'])=4507835680\n",
      "id(y)=4507835680\n",
      "id(y)=4507835680\n"
     ]
    }
   ],
   "source": [
    "ddd = dict(key={1, 2, 3})\n",
    "print(f\"{id(ddd['key'])=}\")\n",
    "y = ddd[\"key\"]\n",
    "print(f\"{id(y)=}\")\n",
    "y |= {4, 5, 6}\n",
    "print(f\"{id(y)=}\")"
   ]
  },
  {
   "cell_type": "code",
   "execution_count": 8,
   "id": "d6af64fb-9fe8-4b51-b5be-10b1fcb8c1d3",
   "metadata": {},
   "outputs": [
    {
     "name": "stdout",
     "output_type": "stream",
     "text": [
      "4509019520\n",
      "4503385472\n"
     ]
    }
   ],
   "source": [
    "y = (1, 2, 3)\n",
    "print(id(y))\n",
    "y += (4, 5, 6)\n",
    "print(id(y))"
   ]
  },
  {
   "cell_type": "code",
   "execution_count": 10,
   "id": "4f8b347b-8c40-4831-a955-b261fd3d1de7",
   "metadata": {},
   "outputs": [
    {
     "name": "stdout",
     "output_type": "stream",
     "text": [
      "4507837248\n",
      "4507837248\n"
     ]
    }
   ],
   "source": [
    "y = {1, 2, 3}\n",
    "print(id(y))\n",
    "y |= {4, 5, 6}\n",
    "print(id(y))"
   ]
  },
  {
   "cell_type": "code",
   "execution_count": 11,
   "id": "f79cd1ca-4065-483c-a245-61843bc40865",
   "metadata": {},
   "outputs": [
    {
     "name": "stdout",
     "output_type": "stream",
     "text": [
      "4507837696\n",
      "4507835904\n"
     ]
    }
   ],
   "source": [
    "y = {1, 2, 3}\n",
    "print(id(y))\n",
    "y = y | {4, 5, 6}\n",
    "print(id(y))"
   ]
  },
  {
   "cell_type": "code",
   "execution_count": null,
   "id": "edc29b0c-22b8-4ca0-8460-4e4157a087b9",
   "metadata": {},
   "outputs": [],
   "source": []
  }
 ],
 "metadata": {
  "kernelspec": {
   "display_name": "Python 3 (ipykernel)",
   "language": "python",
   "name": "python3"
  },
  "language_info": {
   "codemirror_mode": {
    "name": "ipython",
    "version": 3
   },
   "file_extension": ".py",
   "mimetype": "text/x-python",
   "name": "python",
   "nbconvert_exporter": "python",
   "pygments_lexer": "ipython3",
   "version": "3.10.0"
  }
 },
 "nbformat": 4,
 "nbformat_minor": 5
}
