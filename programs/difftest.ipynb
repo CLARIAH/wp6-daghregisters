{
 "cells": [
  {
   "cell_type": "code",
   "execution_count": 2,
   "id": "f28d1e50-6b18-44e4-b270-d089717ca714",
   "metadata": {},
   "outputs": [
    {
     "data": {
      "text/plain": [
       "('t)', '(ge.d)')"
      ]
     },
     "execution_count": 2,
     "metadata": {},
     "output_type": "execute_result"
    }
   ],
   "source": [
    "from tfa.diff import codeDiff\n",
    "codeDiff(\"hoort\", \"gehoord\")"
   ]
  },
  {
   "cell_type": "code",
   "execution_count": 3,
   "id": "10847ab0-3d7d-4ef2-9c67-60ab5f8cd4ff",
   "metadata": {},
   "outputs": [
    {
     "data": {
      "text/plain": [
       "('(v.r', '(g')"
      ]
     },
     "execution_count": 3,
     "metadata": {},
     "output_type": "execute_result"
    }
   ],
   "source": [
    "codeDiff(\"verloofd\", \"geloofd\")"
   ]
  },
  {
   "cell_type": "code",
   "execution_count": null,
   "id": "003c3ae5-44bb-40d3-a06b-8a1a0416503a",
   "metadata": {},
   "outputs": [],
   "source": []
  }
 ],
 "metadata": {
  "kernelspec": {
   "display_name": "Python 3 (ipykernel)",
   "language": "python",
   "name": "python3"
  },
  "language_info": {
   "codemirror_mode": {
    "name": "ipython",
    "version": 3
   },
   "file_extension": ".py",
   "mimetype": "text/x-python",
   "name": "python",
   "nbconvert_exporter": "python",
   "pygments_lexer": "ipython3",
   "version": "3.10.2"
  },
  "widgets": {
   "application/vnd.jupyter.widget-state+json": {
    "state": {},
    "version_major": 2,
    "version_minor": 0
   }
  }
 },
 "nbformat": 4,
 "nbformat_minor": 5
}
