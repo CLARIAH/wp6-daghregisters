{
 "cells": [
  {
   "cell_type": "code",
   "execution_count": 1,
   "id": "b5175cf6-7602-4762-8e1e-91955efdf18b",
   "metadata": {},
   "outputs": [],
   "source": [
    "%load_ext autoreload\n",
    "%autoreload 2"
   ]
  },
  {
   "cell_type": "code",
   "execution_count": 2,
   "id": "e0514b12-8b01-40b6-bfc2-a5e00cc39db3",
   "metadata": {},
   "outputs": [],
   "source": [
    "import collections\n",
    "from math import log\n",
    "\n",
    "from tf.app import use\n",
    "from pocr import PostOcr, showDistribution, showDistributionFreq"
   ]
  },
  {
   "cell_type": "markdown",
   "id": "173780e8-fa94-478d-b252-e6d2b1a792b8",
   "metadata": {},
   "source": [
    "Load the corpus"
   ]
  },
  {
   "cell_type": "code",
   "execution_count": 3,
   "id": "1789ccdb-4c49-4c93-a0dc-e3d7755d0ec2",
   "metadata": {},
   "outputs": [
    {
     "name": "stdout",
     "output_type": "stream",
     "text": [
      "Loading TF data ...\n",
      "Loading tf data from ~/github/annotation/clariah-dr/tf/daghregister/004/0.1\n",
      "done\n"
     ]
    }
   ],
   "source": [
    "P = PostOcr(4)"
   ]
  },
  {
   "cell_type": "markdown",
   "id": "48855177-3b75-4167-bed1-132606ebe945",
   "metadata": {},
   "source": [
    "Get all the distinct word forms as a dict keyed by the word and valued by the list of slots where it occurs."
   ]
  },
  {
   "cell_type": "code",
   "execution_count": 94,
   "id": "5350666c-2a31-4601-a642-c87236dee3b0",
   "metadata": {},
   "outputs": [],
   "source": [
    "F = P.TF.api.F"
   ]
  },
  {
   "cell_type": "code",
   "execution_count": 96,
   "id": "43758c03-5b08-4984-9be9-c153be6900fb",
   "metadata": {},
   "outputs": [
    {
     "data": {
      "text/plain": [
       "24788"
      ]
     },
     "execution_count": 96,
     "metadata": {},
     "output_type": "execute_result"
    }
   ],
   "source": [
    "WORD_OCCS = collections.defaultdict(list)\n",
    "\n",
    "for w in F.otype.s(\"word\"):\n",
    "    word = F.letters.v(w)\n",
    "    WORD_OCCS[word].append(w)\n",
    "len(WORD_OCCS)"
   ]
  },
  {
   "cell_type": "markdown",
   "id": "fb6bfaeb-26bc-4c6c-8f0b-0bc8ece6a14a",
   "metadata": {},
   "source": [
    "# Components"
   ]
  },
  {
   "cell_type": "markdown",
   "id": "1a68ad87-57cd-4803-89a4-c2425439e482",
   "metadata": {},
   "source": [
    "Make a list of all possible splits of words into two.\n",
    "Add the unsplit words as well.\n",
    "Record in how many forms a component occurs"
   ]
  },
  {
   "cell_type": "code",
   "execution_count": 26,
   "id": "6d70e7e9-edbb-445f-99c2-27f30d984f2c",
   "metadata": {},
   "outputs": [],
   "source": [
    "components = collections.Counter()"
   ]
  },
  {
   "cell_type": "code",
   "execution_count": 27,
   "id": "2861e462-200a-45a7-9391-a09966447914",
   "metadata": {},
   "outputs": [],
   "source": [
    "for word in WORD_OCCS:\n",
    "    components[word] += 1\n",
    "    for i in range(1, len(word)):\n",
    "        comp1 = word[0:i]\n",
    "        comp2 = word[i:]\n",
    "        components[comp1] += 1\n",
    "        components[comp2] += 1"
   ]
  },
  {
   "cell_type": "code",
   "execution_count": 28,
   "id": "ac91146d-c397-457a-8574-8dffaf595032",
   "metadata": {},
   "outputs": [
    {
     "data": {
      "text/plain": [
       "140907"
      ]
     },
     "execution_count": 28,
     "metadata": {},
     "output_type": "execute_result"
    }
   ],
   "source": [
    "len(components)"
   ]
  },
  {
   "cell_type": "code",
   "execution_count": 29,
   "id": "5deffab7-9707-4d4c-b7fd-17f9b535a86a",
   "metadata": {},
   "outputs": [
    {
     "data": {
      "text/plain": [
       "6658"
      ]
     },
     "execution_count": 29,
     "metadata": {},
     "output_type": "execute_result"
    }
   ],
   "source": [
    "max(components.values())"
   ]
  },
  {
   "cell_type": "markdown",
   "id": "fdb9cd08-a91c-4591-b9bf-57e95880cfff",
   "metadata": {},
   "source": [
    "What is the distribution?\n",
    "\n",
    "We make the distribution dict that for each frequency tells us how many components have that frequency."
   ]
  },
  {
   "cell_type": "code",
   "execution_count": 30,
   "id": "7bc3dd54-7154-4681-92fb-32d484ae7b9d",
   "metadata": {},
   "outputs": [],
   "source": [
    "compDist = collections.Counter()\n",
    "for freq in components.values():\n",
    "    compDist[freq] += 1"
   ]
  },
  {
   "cell_type": "code",
   "execution_count": 31,
   "id": "dbfd9915-094b-4393-88df-1af956655676",
   "metadata": {},
   "outputs": [
    {
     "name": "stdout",
     "output_type": "stream",
     "text": [
      "in how many words│number of components\n",
      "─────────────────┼──────────────────────────────────────────────────────────────────────────────────────\n",
      "             6658│■1\n",
      "             5583│■1\n",
      "             4682│■1\n",
      "             3926│■1\n",
      "             3292│■1\n",
      "             1941│■■■3\n",
      "             1628│■■2\n",
      "             1365│■■■■■5\n",
      "              960│■■■3\n",
      "              805│■■■■■■■■■9\n",
      "              675│■■■■4\n",
      "              566│■■■■■■■7\n",
      "              475│■■■■■■■7\n",
      "              398│■■■■■■■■8\n",
      "              334│■■■■■■■■■■■■■■20\n",
      "              280│■■■■■■■■■■■12\n",
      "              235│■■■■■■■■■■■■■■18\n",
      "              197│■■■■■■■■■■■■■■■■27\n",
      "              165│■■■■■■■■■■■■■■■■26\n",
      "              138│■■■■■■■■■■■■■■■■25\n",
      "              116│■■■■■■■■■■■■■■■■■■32\n",
      "               97│■■■■■■■■■■■■■■■■■■36\n",
      "               82│■■■■■■■■■■■■■■■■■■■■47\n",
      "               68│■■■■■■■■■■■■■■■■■■■■■■63\n",
      "               57│■■■■■■■■■■■■■■■■■■■■■■59\n",
      "               48│■■■■■■■■■■■■■■■■■■■■■■61\n",
      "               40│■■■■■■■■■■■■■■■■■■■■■■■■■■■121\n",
      "               34│■■■■■■■■■■■■■■■■■■■■■■■■■■■134\n",
      "               28│■■■■■■■■■■■■■■■■■■■■■■■■■■■■149\n",
      "               24│■■■■■■■■■■■■■■■■■■■■■■■■■■■■■165\n",
      "               20│■■■■■■■■■■■■■■■■■■■■■■■■■■■■■■■234\n",
      "               17│■■■■■■■■■■■■■■■■■■■■■■■■■■■■■■■■282\n",
      "               14│■■■■■■■■■■■■■■■■■■■■■■■■■■■■■■■■■■■■444\n",
      "               12│■■■■■■■■■■■■■■■■■■■■■■■■■■■■■■■■■■■434\n",
      "               10│■■■■■■■■■■■■■■■■■■■■■■■■■■■■■■■■■■■■■■635\n",
      "                8│■■■■■■■■■■■■■■■■■■■■■■■■■■■■■■■■■■■■■■■■■970\n",
      "                7│■■■■■■■■■■■■■■■■■■■■■■■■■■■■■■■■■■■■■■■778\n",
      "                6│■■■■■■■■■■■■■■■■■■■■■■■■■■■■■■■■■■■■■■■■■■1100\n",
      "                5│■■■■■■■■■■■■■■■■■■■■■■■■■■■■■■■■■■■■■■■■■■■■■1672\n",
      "                4│■■■■■■■■■■■■■■■■■■■■■■■■■■■■■■■■■■■■■■■■■■■■■■■■2880\n",
      "                3│■■■■■■■■■■■■■■■■■■■■■■■■■■■■■■■■■■■■■■■■■■■■■■■■■■■■■5821\n",
      "                2│■■■■■■■■■■■■■■■■■■■■■■■■■■■■■■■■■■■■■■■■■■■■■■■■■■■■■■■■■■■■16003\n",
      "                1│■■■■■■■■■■■■■■■■■■■■■■■■■■■■■■■■■■■■■■■■■■■■■■■■■■■■■■■■■■■■■■■■■■■■■■■■■■108606\n"
     ]
    }
   ],
   "source": [
    "showDistributionFreq(compDist, \"number of components\", \"in how many words\")"
   ]
  },
  {
   "cell_type": "markdown",
   "id": "571af405-7cf1-41fd-a2ce-e2101b51fc60",
   "metadata": {},
   "source": [
    "We weed oud the components with frequency 1, except those that are complete word forms."
   ]
  },
  {
   "cell_type": "code",
   "execution_count": 32,
   "id": "85f9bc65-6e4e-494c-9b76-97ab7184d628",
   "metadata": {},
   "outputs": [
    {
     "data": {
      "text/plain": [
       "90303"
      ]
     },
     "execution_count": 32,
     "metadata": {},
     "output_type": "execute_result"
    }
   ],
   "source": [
    "weed = {c for (c, freq) in components.items() if freq == 1 and c not in WORD_OCCS}\n",
    "len(weed)"
   ]
  },
  {
   "cell_type": "code",
   "execution_count": 33,
   "id": "0b8249d8-e1cd-48b4-9eb5-c0edd9bf5d0f",
   "metadata": {},
   "outputs": [
    {
     "data": {
      "text/plain": [
       "50604"
      ]
     },
     "execution_count": 33,
     "metadata": {},
     "output_type": "execute_result"
    }
   ],
   "source": [
    "components = {x for x in components.items() if x[0] not in weed}\n",
    "len(components)"
   ]
  },
  {
   "cell_type": "markdown",
   "id": "7969be92-4b15-4a54-b6c8-75f10fde9301",
   "metadata": {},
   "source": [
    "We still can produce all words from the components.\n",
    "\n",
    "We have much more components than words.\n",
    "\n",
    "We are going to weed out further, in stages.\n",
    "\n",
    "At all times, we will be able to compose all words from the components we have."
   ]
  }
 ],
 "metadata": {
  "kernelspec": {
   "display_name": "Python 3 (ipykernel)",
   "language": "python",
   "name": "python3"
  },
  "language_info": {
   "codemirror_mode": {
    "name": "ipython",
    "version": 3
   },
   "file_extension": ".py",
   "mimetype": "text/x-python",
   "name": "python",
   "nbconvert_exporter": "python",
   "pygments_lexer": "ipython3",
   "version": "3.10.0"
  }
 },
 "nbformat": 4,
 "nbformat_minor": 5
}
