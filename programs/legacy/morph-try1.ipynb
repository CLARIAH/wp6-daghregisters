{
 "cells": [
  {
   "cell_type": "code",
   "execution_count": 1,
   "id": "b5175cf6-7602-4762-8e1e-91955efdf18b",
   "metadata": {},
   "outputs": [],
   "source": [
    "%load_ext autoreload\n",
    "%autoreload 2"
   ]
  },
  {
   "cell_type": "code",
   "execution_count": 2,
   "id": "e0514b12-8b01-40b6-bfc2-a5e00cc39db3",
   "metadata": {},
   "outputs": [],
   "source": [
    "import collections\n",
    "\n",
    "from pocr import PostOcr, showDistribution, showDistributionFreq"
   ]
  },
  {
   "cell_type": "markdown",
   "id": "173780e8-fa94-478d-b252-e6d2b1a792b8",
   "metadata": {},
   "source": [
    "Load the corpus"
   ]
  },
  {
   "cell_type": "code",
   "execution_count": 29,
   "id": "1789ccdb-4c49-4c93-a0dc-e3d7755d0ec2",
   "metadata": {},
   "outputs": [
    {
     "name": "stdout",
     "output_type": "stream",
     "text": [
      "Loading TF data ...\n",
      "Loading tf data from ~/github/annotation/clariah-dr/tf/daghregister/004/0.1\n",
      "done\n",
      "24788 words in 229023 occurrences\n",
      "All words frequencies written to ~/github/annotation/clariah-dr/postocr/daghregister/004/wordfreqs.tsv\n",
      "word frequency│word occurrence\n",
      "──────────────┼─────────────────────────────────────────────────────────────────────────────────────\n",
      "          7714│■1\n",
      "          5392│■1\n",
      "          3770│■■■3\n",
      "          3152│■1\n",
      "          2635│■1\n",
      "          2203│■■2\n",
      "          1540│■■■■■■6\n",
      "          1288│■■■3\n",
      "          1077│■■■■■■6\n",
      "           900│■1\n",
      "           753│■■■■■■■■■9\n",
      "           629│■■■■■■■7\n",
      "           526│■■■■■■■■■■■■13\n",
      "           440│■■■■■■■■■■■■■■17\n",
      "           368│■■■■■■■■■9\n",
      "           308│■■■■■■■■■■■■■■■■■■26\n",
      "           257│■■■■■■■■■■■■■■■■21\n",
      "           215│■■■■■■■■■■■■■■■18\n",
      "           180│■■■■■■■■■■■■■■■■■25\n",
      "           150│■■■■■■■■■■■■■■■■■■28\n",
      "           126│■■■■■■■■■■■■■■■■■■■■■40\n",
      "           105│■■■■■■■■■■■■■■■■■■■■■■■48\n",
      "            88│■■■■■■■■■■■■■■■■■■■■■■■47\n",
      "            73│■■■■■■■■■■■■■■■■■■■■■■■■■60\n",
      "            61│■■■■■■■■■■■■■■■■■■■■■■■■■■■79\n",
      "            51│■■■■■■■■■■■■■■■■■■■■■■■■■■■85\n",
      "            43│■■■■■■■■■■■■■■■■■■■■■■■■■■■■■104\n",
      "            36│■■■■■■■■■■■■■■■■■■■■■■■■■■■■■■117\n",
      "            30│■■■■■■■■■■■■■■■■■■■■■■■■■■■■■■■131\n",
      "            25│■■■■■■■■■■■■■■■■■■■■■■■■■■■■■■■■■164\n",
      "            21│■■■■■■■■■■■■■■■■■■■■■■■■■■■■■■■■■■181\n",
      "            18│■■■■■■■■■■■■■■■■■■■■■■■■■■■■■■■■■■189\n",
      "            15│■■■■■■■■■■■■■■■■■■■■■■■■■■■■■■■■■■■■■268\n",
      "            12│■■■■■■■■■■■■■■■■■■■■■■■■■■■■■■■■■■■■■■■■368\n",
      "            10│■■■■■■■■■■■■■■■■■■■■■■■■■■■■■■■■■■■■■■■350\n",
      "             9│■■■■■■■■■■■■■■■■■■■■■■■■■■■■■■■■■■■222\n",
      "             7│■■■■■■■■■■■■■■■■■■■■■■■■■■■■■■■■■■■■■■■■■■■■630\n",
      "             6│■■■■■■■■■■■■■■■■■■■■■■■■■■■■■■■■■■■■■■■■■434\n",
      "             5│■■■■■■■■■■■■■■■■■■■■■■■■■■■■■■■■■■■■■■■■■■■■611\n",
      "             4│■■■■■■■■■■■■■■■■■■■■■■■■■■■■■■■■■■■■■■■■■■■■■■■872\n",
      "             3│■■■■■■■■■■■■■■■■■■■■■■■■■■■■■■■■■■■■■■■■■■■■■■■■■■■1453\n",
      "             2│■■■■■■■■■■■■■■■■■■■■■■■■■■■■■■■■■■■■■■■■■■■■■■■■■■■■■■■■■2998\n",
      "             1│■■■■■■■■■■■■■■■■■■■■■■■■■■■■■■■■■■■■■■■■■■■■■■■■■■■■■■■■■■■■■■■■■■■■■■■15139\n"
     ]
    }
   ],
   "source": [
    "P = PostOcr(4)"
   ]
  },
  {
   "cell_type": "markdown",
   "id": "562a669f-f487-4fc9-a806-ec04b3e9b03f",
   "metadata": {
    "tags": []
   },
   "source": [
    "# Morpheme splitting by information reduction\n",
    "\n",
    "Idea: pick a word and try to split off morpheme-like bits from the start and from the end of a word.\n",
    "We do it in rounds, in each round at most one morf per side of the word is split off.\n",
    "\n",
    "What we do is: \n",
    "\n",
    "```\n",
    "word = morf + main\n",
    "```\n",
    "\n",
    "and/or\n",
    "\n",
    "```\n",
    "word = main + morf\n",
    "```\n",
    "\n",
    "How do we determine whether a possible split is a good split?\n",
    "By using several indicators:\n",
    "\n",
    "1. the number of other *mains* that can combined with the *morf*\n",
    "2. the number of other *morfs* that can be combined with the *main*\n",
    "3. the quality of those other *mains*\n",
    "4. the quality of those other *morfs*.\n",
    "\n",
    "We then weigh the values found for these indicators, and take a decision.\n",
    "\n",
    "When we look for possible *morfs* that combine with a *main*, we also want to know\n",
    "if the *main* with the empty *morf* is a valid word.\n",
    "Likewise, when we look for possible *mains* that combine with a *morf*,\n",
    "we take the empty *main* into account.\n",
    "\n",
    "We use an upper bound for morf lengths.\n",
    "\n",
    "In short words, if we detect overlapping morfs at opposing ends, we pick the one with the best indicators"
   ]
  },
  {
   "cell_type": "markdown",
   "id": "d3a887fd-242e-43d5-b61d-843fb24c1935",
   "metadata": {
    "tags": []
   },
   "source": [
    "# Preparation\n",
    "\n",
    "We compute data in advance that we will need frequently: the compositions of all word forms."
   ]
  },
  {
   "cell_type": "code",
   "execution_count": 4,
   "id": "e895cac4-ae96-4c7f-8333-955baa2a498f",
   "metadata": {},
   "outputs": [
    {
     "name": "stdout",
     "output_type": "stream",
     "text": [
      "82115 distinct suffixes\n",
      "85590 distinct prefixes\n"
     ]
    }
   ],
   "source": [
    "P.getCompositions()"
   ]
  },
  {
   "cell_type": "markdown",
   "id": "8f9cb41d-a91e-4087-bb58-d024f30b2f1e",
   "metadata": {},
   "source": [
    "# Quality of a word split\n",
    "\n",
    "The computation of the quality measures is potentially costly.\n",
    "We do not compute them in advance for the whole corpus, but on a just-in-time basis.\n",
    "Whenever we have computed a quality measure, we memoize it, so that it can be retrieved rather than\n",
    "computed when it is needed again.\n",
    "\n",
    "This pays off, because the quality of an item is typically computed by applying a formula to\n",
    "the qualities of a (big) number of other items.\n",
    "\n",
    "We experiment with notions of quality.\n",
    "\n",
    "Suppose we have `word = morf + main`.\n",
    "\n",
    "A simple notion of quality is the amount of possible *mains* that are possible after the *morf*.\n",
    "\n",
    "But this will give an enormous quality to one-letter morfs. In general, there is a big number of words starting with the\n",
    "same letter.\n",
    "A bit more sophisticated is to weigh all *mains*, by counting how many other *morfs* can precede it.\n",
    "If `mainOther` is another main that can follow `morf`, but `mainOther` cannot be preceded by any other *morf* than `morf`,\n",
    "it does not contribute to the quality of `morf` as morpheme.\n",
    "But if it can be preceded by multiple *morfs*, it contributes to the fact that `morf` is a morpheme.\n",
    "\n",
    "So the quality of a *morf* is the weighted sum of all its (non-empty) *mains* with which it forms a word,\n",
    "where each main is weighted by the number of other *morfs* with which it can form a word, *including* the empty *morf*.\n",
    "\n",
    "The quality of a *main* is the non-weighted sum of all its other (possibly empty) *morfs* with which it forms a word.\n",
    "\n",
    "**Note the asymmetry:**\n",
    "\n",
    "In the quality of a *morph*, we weigh its *mains* in such a way that a *main* that is a word on its own does contribute.\n",
    "\n",
    "In the quality of a *main*, we weigh its *morfs* in such a way that a *morf* that is a word on its own does *not* contribute.\n",
    "\n",
    "In the quality of a *morf*, we do weigh the possible mains.\n",
    "\n",
    "In the quality of a *main*, we just take the number of other morfs, not the sum of their qualities.\n",
    "If a *main* has exactly one morf, then the result is 0; such mains are not good mains.\n",
    "\n",
    "How how do we weigh an empty morf exactly? If we do not say anything, it will be the sum of all words in the corpus.\n",
    "Instead, the empty morf has weight 1.\n",
    "\n",
    "**Recursive closure?**\n",
    "\n",
    "Note that we could also have defined the notion of quality in a recursive way:\n",
    "\n",
    "The quality of a *morf* is the sum of the qualities of its *mains*.\n",
    "\n",
    "The quality of a *main* is the sum of the qualities of its *morfs*.\n",
    "\n",
    "The question is then: how does this recursion stop?\n",
    "\n",
    "We can approach this definition by the one we have given, by computing the qualities in rounds, where in each round we\n",
    "compute new qualities based on the old qualities.\n",
    "And then we stop when the qualities do not change anymore.\n",
    "\n",
    "But at present I have no idea whether this will ever stop.\n",
    "\n",
    "So we stick with just one iteration.\n",
    "\n",
    "# Building intuition\n",
    "\n",
    "We show first these quality measures in some examples, in order to get intuition.\n",
    "When we have seen enough examples, we can proceed to define a decision procedure\n",
    "based on the quality measures."
   ]
  },
  {
   "cell_type": "markdown",
   "id": "12518e37-3d10-4e2e-a9b3-0508aeeebd0e",
   "metadata": {},
   "source": [
    "Some examples."
   ]
  },
  {
   "cell_type": "code",
   "execution_count": 5,
   "id": "8222a39b-3f88-4999-9332-2d3a5d9862ae",
   "metadata": {},
   "outputs": [],
   "source": [
    "EXAMPLES = \"\"\"\n",
    "aanneemt\n",
    "neemt\n",
    "aengeschreeven\n",
    "H\n",
    "hunner\n",
    "monterende\n",
    "gelegentheyt\n",
    "ongelegentheyt\n",
    "heeft\n",
    "gesanten\n",
    "ootmoedige\n",
    "\"\"\".strip().split()"
   ]
  },
  {
   "cell_type": "code",
   "execution_count": 7,
   "id": "db86a687-3972-455a-b2c2-695e83561644",
   "metadata": {},
   "outputs": [
    {
     "data": {
      "text/plain": [
       "{'aann', 'n', 'voorn', 'vr'}"
      ]
     },
     "execution_count": 7,
     "metadata": {},
     "output_type": "execute_result"
    }
   ],
   "source": [
    "P.COMPOSE[True][\"eemt\"]"
   ]
  },
  {
   "cell_type": "code",
   "execution_count": 22,
   "id": "abe338bb-d735-428e-9765-f8889757e1f5",
   "metadata": {},
   "outputs": [
    {
     "data": {
      "text/plain": [
       "0"
      ]
     },
     "execution_count": 22,
     "metadata": {},
     "output_type": "execute_result"
    }
   ],
   "source": [
    "P.clearQuality()\n",
    "len(P.getFills(\"aann\", \"eemt\", False, False))"
   ]
  },
  {
   "cell_type": "code",
   "execution_count": 17,
   "id": "469525b9-942b-4bb4-99b4-b09041bda2c0",
   "metadata": {},
   "outputs": [
    {
     "data": {
      "text/plain": [
       "75"
      ]
     },
     "execution_count": 17,
     "metadata": {},
     "output_type": "execute_result"
    }
   ],
   "source": [
    "P.getQuality(\"vr\", \"eemt\", False, False)"
   ]
  },
  {
   "cell_type": "markdown",
   "id": "b588db15-269f-413b-9a9f-d7d90b3e13d3",
   "metadata": {},
   "source": [
    "Examine the examples:"
   ]
  },
  {
   "cell_type": "code",
   "execution_count": 28,
   "id": "d8f3b090-29c3-47fc-8d7c-bf48858d5a48",
   "metadata": {},
   "outputs": [
    {
     "data": {
      "text/plain": [
       "414"
      ]
     },
     "execution_count": 28,
     "metadata": {},
     "output_type": "execute_result"
    }
   ],
   "source": [
    "len(P.COMPOSE[False][\"n\"])"
   ]
  },
  {
   "cell_type": "code",
   "execution_count": 27,
   "id": "1f56857e-8d57-4772-9e0a-919bfbdbb7fd",
   "metadata": {},
   "outputs": [
    {
     "data": {
      "text/plain": [
       "414"
      ]
     },
     "execution_count": 27,
     "metadata": {},
     "output_type": "execute_result"
    }
   ],
   "source": [
    "len(P.getFills(\"n\", None, True, False))"
   ]
  },
  {
   "cell_type": "code",
   "execution_count": 24,
   "id": "68900dd2-7000-4f94-9615-f5c49b1d3af8",
   "metadata": {},
   "outputs": [
    {
     "data": {
      "text/markdown": [
       "**`aanneemt`**\n",
       "\n",
       "pos | morf | main | qual-morf | #-morfs | qual-main | #-main\n",
       "--- | ---        | ---         | ---       | ---     | ---       | ---\n",
       "1 | a | anneemt | 9435 | 0 | 0 | 1114\n",
       "2 | aa | nneemt | 1304 | 0 | 0 | 5\n",
       "3 | aan | neemt | 23 | 2 | 2 | 3\n",
       "4 | aann | eemt | 3 | 3 | 3 | 0\n",
       "5 | aanne | emt | 14 | 14 | 14 | 0\n",
       "\n",
       "pos | main | morf | qual-morf | #-morfs | qual-main | #-main\n",
       "--- | ---        | ---         | ---       | ---     | ---       | ---\n",
       "7 | aanneem | t | 9380 | 0 | 0 | 3470\n",
       "6 | aannee | mt | 653 | 0 | 0 | 47\n",
       "5 | aanne | emt | 298 | 0 | 0 | 22\n",
       "4 | aann | eemt | 245 | 0 | 0 | 3\n",
       "3 | aan | neemt | 80 | 1 | 1 | 1\n",
       "\n",
       "\n",
       "---\n"
      ],
      "text/plain": [
       "<IPython.core.display.Markdown object>"
      ]
     },
     "metadata": {},
     "output_type": "display_data"
    },
    {
     "data": {
      "text/markdown": [
       "**`neemt`**\n",
       "\n",
       "pos | morf | main | qual-morf | #-morfs | qual-main | #-main\n",
       "--- | ---        | ---         | ---       | ---     | ---       | ---\n",
       "1 | n | eemt | 3823 | 3 | 3 | 413\n",
       "2 | ne | emt | 4170 | 14 | 14 | 81\n",
       "3 | nee | mt | 1829 | 26 | 26 | 13\n",
       "4 | neem | t | 4018 | 925 | 925 | 3\n",
       "\n",
       "pos | main | morf | qual-morf | #-morfs | qual-main | #-main\n",
       "--- | ---        | ---         | ---       | ---     | ---       | ---\n",
       "4 | neem | t | 9380 | 3 | 3 | 3470\n",
       "3 | nee | mt | 653 | 10 | 10 | 47\n",
       "2 | ne | emt | 298 | 47 | 47 | 22\n",
       "1 | n | eemt | 245 | 156 | 156 | 3\n",
       "\n",
       "\n",
       "---\n"
      ],
      "text/plain": [
       "<IPython.core.display.Markdown object>"
      ]
     },
     "metadata": {},
     "output_type": "display_data"
    },
    {
     "data": {
      "text/markdown": [
       "**`aengeschreeven`**\n",
       "\n",
       "pos | morf | main | qual-morf | #-morfs | qual-main | #-main\n",
       "--- | ---        | ---         | ---       | ---     | ---       | ---\n",
       "1 | a | engeschreeven | 9435 | 0 | 0 | 1114\n",
       "2 | ae | ngeschreeven | 3053 | 0 | 0 | 260\n",
       "3 | aen | geschreeven | 2796 | 1 | 1 | 230\n",
       "4 | aeng | eschreeven | 354 | 2 | 2 | 92\n",
       "5 | aenge | schreeven | 493 | 2 | 2 | 86\n",
       "\n",
       "pos | main | morf | qual-morf | #-morfs | qual-main | #-main\n",
       "--- | ---        | ---         | ---       | ---     | ---       | ---\n",
       "13 | aengeschreeve | n | 7997 | 0 | 0 | 6243\n",
       "12 | aengeschreev | en | 13967 | 0 | 0 | 5556\n",
       "11 | aengeschree | ven | 2360 | 0 | 0 | 205\n",
       "10 | aengeschre | even | 2381 | 1 | 1 | 79\n",
       "9 | aengeschr | eeven | 441 | 1 | 1 | 12\n",
       "\n",
       "\n",
       "---\n"
      ],
      "text/plain": [
       "<IPython.core.display.Markdown object>"
      ]
     },
     "metadata": {},
     "output_type": "display_data"
    },
    {
     "data": {
      "text/markdown": [
       "**`H`**\n",
       "\n",
       "*no splits*\n",
       "\n",
       "\n",
       "---\n"
      ],
      "text/plain": [
       "<IPython.core.display.Markdown object>"
      ]
     },
     "metadata": {},
     "output_type": "display_data"
    },
    {
     "data": {
      "text/markdown": [
       "**`hunner`**\n",
       "\n",
       "pos | morf | main | qual-morf | #-morfs | qual-main | #-main\n",
       "--- | ---        | ---         | ---       | ---     | ---       | ---\n",
       "1 | h | unner | 6945 | 0 | 0 | 571\n",
       "2 | hu | nner | 2067 | 1 | 1 | 56\n",
       "3 | hun | ner | 899 | 8 | 8 | 8\n",
       "4 | hunn | er | 3343 | 496 | 496 | 2\n",
       "5 | hunne | r | 1781 | 491 | 491 | 1\n",
       "\n",
       "pos | main | morf | qual-morf | #-morfs | qual-main | #-main\n",
       "--- | ---        | ---         | ---       | ---     | ---       | ---\n",
       "5 | hunne | r | 4102 | 2 | 2 | 1102\n",
       "4 | hunn | er | 6594 | 2 | 2 | 850\n",
       "3 | hun | ner | 107 | 5 | 5 | 11\n",
       "2 | hu | nner | 116 | 29 | 29 | 1\n",
       "1 | h | unner | 253 | 253 | 253 | 0\n",
       "\n",
       "\n",
       "---\n"
      ],
      "text/plain": [
       "<IPython.core.display.Markdown object>"
      ]
     },
     "metadata": {},
     "output_type": "display_data"
    },
    {
     "data": {
      "text/markdown": [
       "**`monterende`**\n",
       "\n",
       "pos | morf | main | qual-morf | #-morfs | qual-main | #-main\n",
       "--- | ---        | ---         | ---       | ---     | ---       | ---\n",
       "1 | m | onterende | 7083 | 1 | 1 | 666\n",
       "2 | mo | nterende | 3682 | 3 | 3 | 141\n",
       "3 | mon | terende | 1802 | 10 | 10 | 21\n",
       "4 | mont | erende | 510 | 54 | 54 | 8\n",
       "5 | monte | rende | 734 | 41 | 41 | 6\n",
       "\n",
       "pos | main | morf | qual-morf | #-morfs | qual-main | #-main\n",
       "--- | ---        | ---         | ---       | ---     | ---       | ---\n",
       "9 | monterend | e | 8676 | 0 | 0 | 4515\n",
       "8 | monteren | de | 4550 | 1 | 1 | 1268\n",
       "7 | montere | nde | 3046 | 1 | 1 | 717\n",
       "6 | monter | ende | 3715 | 1 | 1 | 626\n",
       "5 | monte | rende | 601 | 4 | 4 | 143\n",
       "\n",
       "\n",
       "---\n"
      ],
      "text/plain": [
       "<IPython.core.display.Markdown object>"
      ]
     },
     "metadata": {},
     "output_type": "display_data"
    },
    {
     "data": {
      "text/markdown": [
       "**`gelegentheyt`**\n",
       "\n",
       "pos | morf | main | qual-morf | #-morfs | qual-main | #-main\n",
       "--- | ---        | ---         | ---       | ---     | ---       | ---\n",
       "1 | g | elegentheyt | 4884 | 1 | 1 | 2251\n",
       "2 | ge | legentheyt | 7676 | 1 | 1 | 1780\n",
       "3 | gel | egentheyt | 3689 | 5 | 5 | 160\n",
       "4 | gele | gentheyt | 2664 | 5 | 5 | 43\n",
       "5 | geleg | entheyt | 1971 | 6 | 6 | 17\n",
       "\n",
       "pos | main | morf | qual-morf | #-morfs | qual-main | #-main\n",
       "--- | ---        | ---         | ---       | ---     | ---       | ---\n",
       "11 | gelegenthey | t | 9380 | 1 | 1 | 3470\n",
       "10 | gelegenthe | yt | 3418 | 2 | 2 | 402\n",
       "9 | gelegenth | eyt | 1917 | 2 | 2 | 301\n",
       "8 | gelegent | heyt | 616 | 3 | 3 | 204\n",
       "7 | gelegen | theyt | 115 | 11 | 11 | 31\n",
       "\n",
       "\n",
       "---\n"
      ],
      "text/plain": [
       "<IPython.core.display.Markdown object>"
      ]
     },
     "metadata": {},
     "output_type": "display_data"
    },
    {
     "data": {
      "text/markdown": [
       "**`ongelegentheyt`**\n",
       "\n",
       "pos | morf | main | qual-morf | #-morfs | qual-main | #-main\n",
       "--- | ---        | ---         | ---       | ---     | ---       | ---\n",
       "1 | o | ngelegentheyt | 5922 | 0 | 0 | 1204\n",
       "2 | on | gelegentheyt | 1670 | 1 | 1 | 529\n",
       "3 | ong | elegentheyt | 231 | 1 | 1 | 91\n",
       "4 | onge | legentheyt | 357 | 1 | 1 | 89\n",
       "5 | ongel | egentheyt | 627 | 5 | 5 | 15\n",
       "\n",
       "pos | main | morf | qual-morf | #-morfs | qual-main | #-main\n",
       "--- | ---        | ---         | ---       | ---     | ---       | ---\n",
       "13 | ongelegenthey | t | 9380 | 0 | 0 | 3470\n",
       "12 | ongelegenthe | yt | 3418 | 0 | 0 | 402\n",
       "11 | ongelegenth | eyt | 1917 | 0 | 0 | 301\n",
       "10 | ongelegent | heyt | 616 | 1 | 1 | 204\n",
       "9 | ongelegen | theyt | 115 | 2 | 2 | 31\n",
       "\n",
       "\n",
       "---\n"
      ],
      "text/plain": [
       "<IPython.core.display.Markdown object>"
      ]
     },
     "metadata": {},
     "output_type": "display_data"
    },
    {
     "data": {
      "text/markdown": [
       "**`heeft`**\n",
       "\n",
       "pos | morf | main | qual-morf | #-morfs | qual-main | #-main\n",
       "--- | ---        | ---         | ---       | ---     | ---       | ---\n",
       "1 | h | eeft | 6945 | 7 | 7 | 571\n",
       "2 | he | eft | 8825 | 16 | 16 | 166\n",
       "3 | hee | ft | 4784 | 38 | 38 | 23\n",
       "4 | heef | t | 1354 | 925 | 925 | 4\n",
       "\n",
       "pos | main | morf | qual-morf | #-morfs | qual-main | #-main\n",
       "--- | ---        | ---         | ---       | ---     | ---       | ---\n",
       "4 | heef | t | 9380 | 4 | 4 | 3470\n",
       "3 | hee | ft | 570 | 16 | 16 | 64\n",
       "2 | he | eft | 965 | 94 | 94 | 20\n",
       "1 | h | eeft | 1376 | 253 | 253 | 7\n",
       "\n",
       "\n",
       "---\n"
      ],
      "text/plain": [
       "<IPython.core.display.Markdown object>"
      ]
     },
     "metadata": {},
     "output_type": "display_data"
    },
    {
     "data": {
      "text/markdown": [
       "**`gesanten`**\n",
       "\n",
       "pos | morf | main | qual-morf | #-morfs | qual-main | #-main\n",
       "--- | ---        | ---         | ---       | ---     | ---       | ---\n",
       "1 | g | esanten | 4884 | 0 | 0 | 2251\n",
       "2 | ge | santen | 7676 | 1 | 1 | 1780\n",
       "3 | ges | anten | 1185 | 18 | 18 | 251\n",
       "4 | gesa | nten | 554 | 25 | 25 | 19\n",
       "5 | gesan | ten | 1666 | 320 | 320 | 5\n",
       "\n",
       "pos | main | morf | qual-morf | #-morfs | qual-main | #-main\n",
       "--- | ---        | ---         | ---       | ---     | ---       | ---\n",
       "7 | gesante | n | 7997 | 1 | 1 | 6243\n",
       "6 | gesant | en | 13967 | 4 | 4 | 5556\n",
       "5 | gesan | ten | 3766 | 4 | 4 | 656\n",
       "4 | gesa | nten | 571 | 9 | 9 | 70\n",
       "3 | ges | anten | 525 | 106 | 106 | 33\n",
       "\n",
       "\n",
       "---\n"
      ],
      "text/plain": [
       "<IPython.core.display.Markdown object>"
      ]
     },
     "metadata": {},
     "output_type": "display_data"
    },
    {
     "data": {
      "text/markdown": [
       "**`ootmoedige`**\n",
       "\n",
       "pos | morf | main | qual-morf | #-morfs | qual-main | #-main\n",
       "--- | ---        | ---         | ---       | ---     | ---       | ---\n",
       "1 | o | otmoedige | 5922 | 0 | 0 | 1204\n",
       "2 | oo | tmoedige | 1677 | 0 | 0 | 75\n",
       "3 | oot | moedige | 10 | 2 | 2 | 3\n",
       "4 | ootm | oedige | 28 | 1 | 1 | 3\n",
       "5 | ootmo | edige | 182 | 7 | 7 | 3\n",
       "\n",
       "pos | main | morf | qual-morf | #-morfs | qual-main | #-main\n",
       "--- | ---        | ---         | ---       | ---     | ---       | ---\n",
       "9 | ootmoedig | e | 8676 | 0 | 0 | 4515\n",
       "8 | ootmoedi | ge | 1751 | 1 | 1 | 449\n",
       "7 | ootmoed | ige | 474 | 2 | 2 | 131\n",
       "6 | ootmoe | dige | 405 | 2 | 2 | 40\n",
       "5 | ootmo | edige | 935 | 2 | 2 | 13\n",
       "\n",
       "\n",
       "---\n"
      ],
      "text/plain": [
       "<IPython.core.display.Markdown object>"
      ]
     },
     "metadata": {},
     "output_type": "display_data"
    }
   ],
   "source": [
    "P.clearQuality()\n",
    "P.showExamples(EXAMPLES)"
   ]
  },
  {
   "cell_type": "code",
   "execution_count": null,
   "id": "9d4d930a-f062-4e48-b86e-7f5b5b712543",
   "metadata": {},
   "outputs": [],
   "source": []
  }
 ],
 "metadata": {
  "kernelspec": {
   "display_name": "Python 3 (ipykernel)",
   "language": "python",
   "name": "python3"
  },
  "language_info": {
   "codemirror_mode": {
    "name": "ipython",
    "version": 3
   },
   "file_extension": ".py",
   "mimetype": "text/x-python",
   "name": "python",
   "nbconvert_exporter": "python",
   "pygments_lexer": "ipython3",
   "version": "3.10.0"
  }
 },
 "nbformat": 4,
 "nbformat_minor": 5
}
